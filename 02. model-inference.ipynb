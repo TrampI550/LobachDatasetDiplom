{
 "cells": [
  {
   "cell_type": "code",
   "execution_count": 14,
   "id": "57ae6683",
   "metadata": {},
   "outputs": [],
   "source": [
    "import os\n",
    "\n",
    "DataSample = dict[str, str]\n",
    "\n",
    "def collect_data(images_dir : str, labels_dir : str) -> list[DataSample]:\n",
    "    images = sorted(os.listdir(images_dir))\n",
    "    labels = sorted(os.listdir(labels_dir))\n",
    "    \n",
    "    data = []\n",
    "    for image, label in zip(images, labels):\n",
    "        data.append({\"image\": os.path.join(images_dir, image), \"label\": os.path.join(labels_dir, label)})\n",
    "    \n",
    "    return data\n",
    "\n",
    "def collect_dataset(train_dir : str, val_dir : str, test_dir : str) -> dict[str, list[DataSample]]:\n",
    "    dataset = {\"train\": [], \"val\": [], \"test\": []}\n",
    "    \n",
    "    dataset[\"train\"] = collect_data(os.path.join(train_dir, \"images\"),\n",
    "                                 os.path.join(train_dir, \"labels\"))\n",
    "    dataset[\"val\"] = collect_data(os.path.join(val_dir, \"images\"),\n",
    "                                 os.path.join(val_dir, \"labels\"))\n",
    "    dataset[\"test\"] = collect_data(os.path.join(test_dir, \"images\"),\n",
    "                                 os.path.join(test_dir, \"labels\"))\n",
    "    return dataset\n",
    "\n",
    "ROOT_DIR = \"./\"\n",
    "DATASET_PATH = \"./data/datasets/astrocyte-1.1\"\n",
    "# DATASET_PATH = \"./data\"\n",
    "os.chdir(ROOT_DIR)\n",
    "\n",
    "dataset = collect_dataset(os.path.join(DATASET_PATH, \"train\"),\n",
    "                os.path.join(DATASET_PATH, \"val\"),\n",
    "                os.path.join(DATASET_PATH, \"test\"))"
   ]
  },
  {
   "cell_type": "code",
   "execution_count": 4,
   "id": "4fbeb26e",
   "metadata": {},
   "outputs": [
    {
     "data": {
      "text/plain": [
       "<All keys matched successfully>"
      ]
     },
     "execution_count": 4,
     "metadata": {},
     "output_type": "execute_result"
    }
   ],
   "source": [
    "import torch\n",
    "from monai.networks.nets import AttentionUnet\n",
    "device = torch.device(\"cuda\" if torch.cuda.is_available() else \"cpu\")\n",
    "\n",
    "\n",
    "model = AttentionUnet(\n",
    "    spatial_dims=2,\n",
    "    in_channels=3,\n",
    "    out_channels=1,\n",
    "    channels=(64, 128, 256, 512, 1024),\n",
    "    strides=(2, 2, 2, 2),\n",
    ").to(device)\n",
    "\n",
    "checkpoint = os.path.join(\"checkpoints\", \"best.pth\")\n",
    "model.load_state_dict(torch.load(checkpoint, weights_only=True))"
   ]
  },
  {
   "cell_type": "code",
   "execution_count": 15,
   "id": "bb06b261",
   "metadata": {},
   "outputs": [],
   "source": [
    "from monai.data.dataset import Dataset\n",
    "from monai.data.dataloader import DataLoader\n",
    "from monai.data import NumpyReader\n",
    "\n",
    "from monai.transforms import (\n",
    "    Compose, LoadImaged, EnsureChannelFirstd, EnsureTyped, Spacingd, \n",
    "    RandFlipd, RandAffined, RandGaussianNoised, RandGaussianSmoothd, \n",
    "    NormalizeIntensityd, RandAdjustContrastd, Rand3DElasticd\n",
    ")\n",
    "\n",
    "test_transform = Compose([\n",
    "    LoadImaged(keys=[\"image\", \"label\"], reader=NumpyReader),\n",
    "    EnsureTyped(keys=[\"image\", \"label\"]),\n",
    "    EnsureChannelFirstd(keys=[\"label\"]),\n",
    "    EnsureChannelFirstd(keys=[\"image\"], channel_dim=-1),\n",
    "    \n",
    "    # Intensity\n",
    "    NormalizeIntensityd(keys=[\"image\"], channel_wise=True),  # (data - mean) / std\n",
    "])\n",
    "\n",
    "test_dataset = Dataset(dataset[\"test\"], test_transform)\n",
    "test_dataloader = DataLoader(test_dataset)"
   ]
  },
  {
   "cell_type": "code",
   "execution_count": 16,
   "id": "89771c46",
   "metadata": {},
   "outputs": [],
   "source": [
    "class Dice():\n",
    "    def __init__ (self, smooth=1e-6):\n",
    "        self.smooth = smooth\n",
    "        self.by_classes = torch.tensor([])\n",
    "        \n",
    "    def __call__(self, outputs : torch.Tensor, targets : torch.Tensor):\n",
    "        self.intersection = (outputs & targets).sum((2, 3))\n",
    "        self.union = (outputs | targets).sum((2, 3))\n",
    "        self.by_classes = (2 * self.intersection) / (self.union + self.intersection + self.smooth)\n",
    "        return self.by_classes.mean(dim=0)\n",
    "    \n",
    "    def mean(self):\n",
    "        return self.by_classes.mean(dim=1).mean(dim=0)"
   ]
  },
  {
   "cell_type": "code",
   "execution_count": 148,
   "id": "6386ff06",
   "metadata": {},
   "outputs": [],
   "source": [
    "import matplotlib.pyplot as plt\n",
    "import numpy as np\n",
    "\n",
    "from torchvision.utils import make_grid\n",
    "def make_grid_image(images : list[torch.Tensor]):\n",
    "    for i in range(len(images)):\n",
    "        images[i] = torch.Tensor(images[i])[0].cpu()\n",
    "        if images[i].size(0) == 1:\n",
    "            images[i] = images[i].repeat(3, 1, 1)\n",
    "    return make_grid(images)"
   ]
  },
  {
   "cell_type": "code",
   "execution_count": 146,
   "id": "03b8f313",
   "metadata": {},
   "outputs": [],
   "source": [
    "from tqdm import tqdm\n",
    "from PIL import Image\n",
    "\n",
    "def validate(\n",
    "    model : torch.nn.Module,\n",
    "    batch : dict[str, torch.Tensor],\n",
    "    device : torch.device,\n",
    "):\n",
    "    model.eval()\n",
    "    step_dice = 0\n",
    "    dice = Dice()\n",
    "    \n",
    "    with torch.no_grad():\n",
    "        batch : dict[str, torch.Tensor]\n",
    "        inputs, targets = batch[\"image\"].to(device), batch[\"label\"].to(device)\n",
    "\n",
    "        outputs = model(inputs); outputs : torch.Tensor\n",
    "        \n",
    "        mask = (torch.sigmoid(outputs) > 0.2).int()\n",
    "        targets = targets.int()\n",
    "        \n",
    "        dice(mask, targets); step_dice = dice.mean()\n",
    "        grid_image = make_grid_image([inputs, targets, mask])\n",
    "        \n",
    "        grid_image = Image.fromarray((grid_image.permute(1, 2, 0).numpy()[:1] + (grid_image.permute(1, 2, 0).numpy()[1:] * 255)).astype(\"uint8\"))\n",
    "        \n",
    "    return step_dice, grid_image"
   ]
  },
  {
   "cell_type": "code",
   "execution_count": 116,
   "id": "0fd92860",
   "metadata": {},
   "outputs": [
    {
     "data": {
      "text/plain": [
       "27.39703369140625"
      ]
     },
     "execution_count": 116,
     "metadata": {},
     "output_type": "execute_result"
    },
    {
     "data": {
      "image/png": "[encoded data removed]",
      "text/plain": [
       "<Figure size 640x480 with 1 Axes>"
      ]
     },
     "metadata": {},
     "output_type": "display_data"
    }
   ],
   "source": [
    "import matplotlib.pyplot as plt\n",
    "import numpy as np\n",
    "\n",
    "original = np.load(dataset[\"test\"][0][\"image\"])\n",
    "plt.imshow(original)\n",
    "original.mean()"
   ]
  },
  {
   "cell_type": "code",
   "execution_count": 150,
   "id": "558011bc",
   "metadata": {},
   "outputs": [
    {
     "name": "stdout",
     "output_type": "stream",
     "text": [
      "╒════╤══════════════════════════════════════════════════════╤════════╕\n",
      "│    │ idx                                                  │  mean  │\n",
      "╞════╪══════════════════════════════════════════════════════╪════════╡\n",
      "│ 0  │ 0101_png.rf.eaff03e973a515def176e99b3bbbb1b2.jpg.npy │ 0.6333 │\n",
      "├────┼──────────────────────────────────────────────────────┼────────┤\n",
      "│ 1  │ 0201_png.rf.80523f2f45061f74159edc048bbd21f0.jpg.npy │ 0.6469 │\n",
      "├────┼──────────────────────────────────────────────────────┼────────┤\n",
      "│ 2  │ 0302_png.rf.c4281ccc8c53b16d7d70487e825ecf43.jpg.npy │ 0.7568 │\n",
      "├────┼──────────────────────────────────────────────────────┼────────┤\n",
      "│ 3  │ overall                                              │ 0.6790 │\n",
      "╘════╧══════════════════════════════════════════════════════╧════════╛\n"
     ]
    }
   ],
   "source": [
    "import tabulate\n",
    "import pandas as pd\n",
    "from tabulate import tabulate\n",
    "\n",
    "results = []\n",
    "\n",
    "mean_dice = 0\n",
    "\n",
    "import numpy as np\n",
    "\n",
    "for i, (meta, batch) in enumerate(zip(dataset[\"test\"], test_dataloader)):\n",
    "    idx = os.path.basename(meta[\"image\"])\n",
    "    dice, img_grid = validate(model, batch, device)\n",
    "    mean_dice += dice\n",
    "    \n",
    "    results.append({\"idx\": idx, \"mean\": dice})\n",
    "    img_grid.save(os.path.join(\"output\", \"{}_img_grid.png\".format(idx)))\n",
    "    \n",
    "mean_dice /= len(test_dataloader)\n",
    "results.append({\"idx\": \"overall\", \"mean\": mean_dice})\n",
    "\n",
    "results_df = pd.DataFrame(results)\n",
    "results_df = results_df.round(4)\n",
    "\n",
    "print(tabulate(results_df, headers=\"keys\", tablefmt=\"fancy_grid\", numalign=\"center\", floatfmt=\".4f\"))"
   ]
  }
 ],
 "metadata": {
  "kernelspec": {
   "display_name": "heart-segmentation",
   "language": "python",
   "name": "python3"
  },
  "language_info": {
   "codemirror_mode": {
    "name": "ipython",
    "version": 3
   },
   "file_extension": ".py",
   "mimetype": "text/x-python",
   "name": "python",
   "nbconvert_exporter": "python",
   "pygments_lexer": "ipython3",
   "version": "3.10.0"
  }
 },
 "nbformat": 4,
 "nbformat_minor": 5
}
